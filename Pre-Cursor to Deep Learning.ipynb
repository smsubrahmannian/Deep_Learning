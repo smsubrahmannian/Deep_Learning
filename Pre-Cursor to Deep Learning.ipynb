{
 "cells": [
  {
   "cell_type": "markdown",
   "metadata": {},
   "source": [
    "# Classes and Objects\n",
    "## Objective: To understand the basics of python implementation of python classes"
   ]
  },
  {
   "cell_type": "markdown",
   "metadata": {},
   "source": [
    "### Index\n",
    "1. What are methods,fields?\n",
    "2. The concept of self\n",
    "3. the __init__ method\n",
    "4. Object and class variables\n",
    "5. Inheritance"
   ]
  },
  {
   "cell_type": "code",
   "execution_count": 74,
   "metadata": {
    "collapsed": true
   },
   "outputs": [],
   "source": [
    "class Student:\n",
    "# Here we use the __init__ function is used to initialise our object.    \n",
    "    def __init__(self,name):\n",
    "        self.name = name\n",
    "# Here we observe that helloObj method doesnt need the field 'self.name to be passed.\n",
    "    def helloObj(self):\n",
    "        print(\"My name is \"+self.name)\n",
    "# Here we can observe that AgeObj method needed an additional field from the user\n",
    "    def AgeObj(self,age):\n",
    "        print(self.name+\" is \"+ str(age)+ \" years old\")\n",
    "# All the variables or fields discussed are object variables."
   ]
  },
  {
   "cell_type": "markdown",
   "metadata": {},
   "source": [
    "### The concept of self\n",
    "Look at the example below. Here a is an instance of the class Student. When I call a method AgeObj from the instance a, I write, a.AgeObj, this is automatically converted into python by AgeObj(a,age)"
   ]
  },
  {
   "cell_type": "code",
   "execution_count": 75,
   "metadata": {},
   "outputs": [
    {
     "name": "stdout",
     "output_type": "stream",
     "text": [
      "My name is Sooraj\n",
      "Sooraj is 26 years old\n"
     ]
    }
   ],
   "source": [
    "a = Student('Sooraj')\n",
    "a.helloObj()\n",
    "a.AgeObj(26)"
   ]
  },
  {
   "cell_type": "code",
   "execution_count": 76,
   "metadata": {},
   "outputs": [],
   "source": [
    "class English:\n",
    "    classstrength = 0\n",
    "    studentname = []\n",
    "    def __init__(self,name,othersub):\n",
    "        self.name = name\n",
    "        self.othersub = othersub\n",
    "# Here classstrength and studentname are Class variable. This means it remains the same for all the instances \n",
    "# and any changes to these variables by any one of the instance will change it for all the variables.\n",
    "        English.classstrength +=1\n",
    "        English.studentname.append(name)\n",
    "    def delstudent(self, sname):\n",
    "        English.classstrength-=1\n",
    "        English.studentname.remove(sname)\n",
    "    def Report(self):\n",
    "        print(\"My name is \"+ self.name)\n",
    "        print(self.name+\" takes \"+ str(self.othersub)+ \" other subjects\")\n",
    "# A lot of things to look out for. \n",
    "# Firstly, Unlike the object variables(fields), the class variables are defined before the definition of\n",
    "# __init__ method. These variables are accessed by other methods in the class using name of the class and not by the \n",
    "# instance of the class.\n",
    "# Finally, these variables are accessed through name of the class and not instance of the class"
   ]
  },
  {
   "cell_type": "code",
   "execution_count": 77,
   "metadata": {},
   "outputs": [
    {
     "name": "stdout",
     "output_type": "stream",
     "text": [
      "Classstrength: 1\n",
      "studentnames: ['Sooraj']\n",
      "My name is Sooraj\n",
      "Sooraj takes 2 other subjects\n"
     ]
    }
   ],
   "source": [
    "a = English('Sooraj',2)\n",
    "# There is only one student \n",
    "print(\"Classstrength: \"+ str(English.classstrength))\n",
    "print(\"studentnames: \"+ str(English.studentname))\n",
    "a.Report()"
   ]
  },
  {
   "cell_type": "code",
   "execution_count": 78,
   "metadata": {},
   "outputs": [
    {
     "name": "stdout",
     "output_type": "stream",
     "text": [
      "Classstrength: 2\n",
      "studentnames: ['Sooraj', 'Kunal']\n",
      "My name is Kunal\n",
      "Kunal takes 3 other subjects\n"
     ]
    }
   ],
   "source": [
    "b = English('Kunal',3)\n",
    "#There are two students\n",
    "print(\"Classstrength: \"+ str(English.classstrength))\n",
    "print(\"studentnames: \"+ str(English.studentname))\n",
    "b.Report()"
   ]
  },
  {
   "cell_type": "code",
   "execution_count": 79,
   "metadata": {},
   "outputs": [
    {
     "name": "stdout",
     "output_type": "stream",
     "text": [
      "Classstrength: 1\n",
      "studentnames: ['Sooraj']\n"
     ]
    }
   ],
   "source": [
    "b.delstudent('Kunal')\n",
    "print(\"Classstrength: \"+ str(English.classstrength))\n",
    "print(\"studentnames: \"+ str(English.studentname))"
   ]
  },
  {
   "cell_type": "code",
   "execution_count": 80,
   "metadata": {
    "collapsed": true
   },
   "outputs": [],
   "source": [
    "class Test:\n",
    "    englishtest = 30 \n",
    "    def __init__(self):\n",
    "        self.englishtest = 20"
   ]
  },
  {
   "cell_type": "code",
   "execution_count": 81,
   "metadata": {
    "scrolled": true
   },
   "outputs": [
    {
     "data": {
      "text/plain": [
       "20"
      ]
     },
     "execution_count": 81,
     "metadata": {},
     "output_type": "execute_result"
    }
   ],
   "source": [
    "test = Test()\n",
    "test.englishtest"
   ]
  },
  {
   "cell_type": "markdown",
   "metadata": {},
   "source": [
    "In the above example, you can see that if I have a class variable and object variable with same name, then the object variable overwrites over the class variable"
   ]
  },
  {
   "cell_type": "code",
   "execution_count": 82,
   "metadata": {
    "collapsed": true
   },
   "outputs": [],
   "source": [
    "class Student(English):\n",
    "    def __init__(self,name,marks,othersub):\n",
    "        English.__init__(self,name,othersub)\n",
    "        self.marks = marks "
   ]
  },
  {
   "cell_type": "code",
   "execution_count": 83,
   "metadata": {},
   "outputs": [
    {
     "name": "stdout",
     "output_type": "stream",
     "text": [
      "My name is Santhosh\n",
      "Santhosh takes 2 other subjects\n"
     ]
    },
    {
     "data": {
      "text/plain": [
       "30"
      ]
     },
     "execution_count": 83,
     "metadata": {},
     "output_type": "execute_result"
    }
   ],
   "source": [
    "k = Student(\"Santhosh\",30,2)\n",
    "k.Report()\n",
    "k.marks"
   ]
  },
  {
   "cell_type": "markdown",
   "metadata": {},
   "source": [
    "While inheriting the Class English, Class Student has to inherit all the variables of the superclass. \n",
    "Inheritance allows us to use the methods and variables repitatively without actually writing it again."
   ]
  }
 ],
 "metadata": {
  "kernelspec": {
   "display_name": "Python 3",
   "language": "python",
   "name": "python3"
  },
  "language_info": {
   "codemirror_mode": {
    "name": "ipython",
    "version": 3
   },
   "file_extension": ".py",
   "mimetype": "text/x-python",
   "name": "python",
   "nbconvert_exporter": "python",
   "pygments_lexer": "ipython3",
   "version": "3.6.2"
  }
 },
 "nbformat": 4,
 "nbformat_minor": 2
}
